{
 "cells": [
  {
   "cell_type": "markdown",
   "metadata": {},
   "source": [
    "## Le script total"
   ]
  },
  {
   "cell_type": "code",
   "execution_count": 78,
   "metadata": {},
   "outputs": [
    {
     "name": "stdout",
     "output_type": "stream",
     "text": [
      " Didier Raoult, le postmodernisme en étendard \n",
      " Crise sanitaire Le professeur Raoult persiste dans ses certitudes Visé par une plainte, le directeur de l'institut Méditerranée Infection prescrit toujours l'hydroxychloroquine \n",
      "Proportion d'articles contenant le terme dans le titre : 20.0 %\n"
     ]
    }
   ],
   "source": [
    "# création d'une nouvelle variable nombre\n",
    "nombre_articles = 0\n",
    "\n",
    "# création d'une nouvelle variable texte - mot clé qu'on recherche\n",
    "motcle = \"Raoult\"\n",
    "\n",
    "# Créer une liste de titres d'articles\n",
    "titres = [' Bolsonaro sur le banc des accusés après les ravages du Covid à Manaus ',\n",
    " \" Gilbert Deray Bilan d'étape du virus, un an après La découverte de vaccins en un temps record est un incontestable succès médico-scientifique, mais nos échecs économiques et sociétaux dans la lutte contre le Covid-19 sont évidents, souligne le médecin \",\n",
    " ' Information et pandémie Les médias traitent-ils bien les sciences ? ',\n",
    " ' Par Nicolas Berrod, Ludwig Gallet et Paméla ',\n",
    " ' Covid-19 : le docu «Hold-up» bat des records de défiance ',\n",
    " \" A Marseille, la facture n'est pas passée \",\n",
    " ' Pass sanitaire|« On y mettra fin à la minute où nous le pourrons » ',\n",
    " ' Les covidosceptiques veulent faire avaler leurs pilules ',\n",
    " ' Didier Raoult, le postmodernisme en étendard ',\n",
    " \" Crise sanitaire Le professeur Raoult persiste dans ses certitudes Visé par une plainte, le directeur de l'institut Méditerranée Infection prescrit toujours l'hydroxychloroquine \"]\n",
    "\n",
    "# Créer une variable avec le nombre total d'éléments dans la liste\n",
    "nombre_total_articles = len(titres)\n",
    "\n",
    "# On vérifie si le nombre d'article est différent de 0\n",
    "if nombre_total_articles > 0:\n",
    "    # On fait une boucle sur l'ensemble des titres\n",
    "    for element in titres:\n",
    "        # On regarde si le mot clé est dans le titre\n",
    "        if motcle in element:\n",
    "            # Si oui, on l'affiche\n",
    "            print(element)\n",
    "            # On augmente le compteur de 1\n",
    "            nombre_articles+=1\n",
    "else:\n",
    "    # Cas où la liste est vide\n",
    "    print(\"La liste est vide\")\n",
    "\n",
    "# On calcule le pourcentage d'articles qui contiennent le mot clé\n",
    "proportion = 100*nombre_articles/nombre_total_articles\n",
    "\n",
    "# Afficher le format final\n",
    "print(\"Proportion d'articles contenant le terme dans le titre : {} %\".format(round(proportion,1)))"
   ]
  },
  {
   "cell_type": "markdown",
   "metadata": {},
   "source": [
    "### La première ligne"
   ]
  },
  {
   "cell_type": "markdown",
   "metadata": {},
   "source": [
    "Instanciation d'une variable et donner une valeur"
   ]
  },
  {
   "cell_type": "code",
   "execution_count": 2,
   "metadata": {},
   "outputs": [],
   "source": [
    "nombre_articles = 0"
   ]
  },
  {
   "cell_type": "code",
   "execution_count": 4,
   "metadata": {},
   "outputs": [
    {
     "data": {
      "text/plain": [
       "0"
      ]
     },
     "execution_count": 4,
     "metadata": {},
     "output_type": "execute_result"
    }
   ],
   "source": [
    "nombre_articles"
   ]
  },
  {
   "cell_type": "code",
   "execution_count": 5,
   "metadata": {},
   "outputs": [],
   "source": [
    "nb_art = 0"
   ]
  },
  {
   "cell_type": "code",
   "execution_count": 6,
   "metadata": {},
   "outputs": [
    {
     "ename": "SyntaxError",
     "evalue": "invalid syntax (<ipython-input-6-23638ad416e3>, line 1)",
     "output_type": "error",
     "traceback": [
      "\u001b[0;36m  File \u001b[0;32m\"<ipython-input-6-23638ad416e3>\"\u001b[0;36m, line \u001b[0;32m1\u001b[0m\n\u001b[0;31m    nb art=0\u001b[0m\n\u001b[0m         ^\u001b[0m\n\u001b[0;31mSyntaxError\u001b[0m\u001b[0;31m:\u001b[0m invalid syntax\n"
     ]
    }
   ],
   "source": [
    "nb art=0"
   ]
  },
  {
   "cell_type": "code",
   "execution_count": 9,
   "metadata": {},
   "outputs": [
    {
     "data": {
      "text/plain": [
       "10"
      ]
     },
     "execution_count": 9,
     "metadata": {},
     "output_type": "execute_result"
    }
   ],
   "source": [
    "nombre_articles + 10"
   ]
  },
  {
   "cell_type": "code",
   "execution_count": 10,
   "metadata": {},
   "outputs": [],
   "source": [
    "nombre_articles = 101"
   ]
  },
  {
   "cell_type": "code",
   "execution_count": 11,
   "metadata": {},
   "outputs": [
    {
     "data": {
      "text/plain": [
       "101"
      ]
     },
     "execution_count": 11,
     "metadata": {},
     "output_type": "execute_result"
    }
   ],
   "source": [
    "nombre_articles"
   ]
  },
  {
   "cell_type": "code",
   "execution_count": 12,
   "metadata": {},
   "outputs": [
    {
     "data": {
      "text/plain": [
       "int"
      ]
     },
     "execution_count": 12,
     "metadata": {},
     "output_type": "execute_result"
    }
   ],
   "source": [
    "type(nombre_articles)"
   ]
  },
  {
   "cell_type": "markdown",
   "metadata": {},
   "source": [
    "### Commenter un code\n",
    "\n",
    "On utilise le caractère #"
   ]
  },
  {
   "cell_type": "markdown",
   "metadata": {},
   "source": [
    "## Deuxième ligne"
   ]
  },
  {
   "cell_type": "code",
   "execution_count": 13,
   "metadata": {},
   "outputs": [],
   "source": [
    "motcle = \"Raoult\""
   ]
  },
  {
   "cell_type": "code",
   "execution_count": 14,
   "metadata": {},
   "outputs": [
    {
     "data": {
      "text/plain": [
       "str"
      ]
     },
     "execution_count": 14,
     "metadata": {},
     "output_type": "execute_result"
    }
   ],
   "source": [
    "type(motcle)"
   ]
  },
  {
   "cell_type": "code",
   "execution_count": 15,
   "metadata": {},
   "outputs": [
    {
     "data": {
      "text/plain": [
       "'Raoult'"
      ]
     },
     "execution_count": 15,
     "metadata": {},
     "output_type": "execute_result"
    }
   ],
   "source": [
    "motcle"
   ]
  },
  {
   "cell_type": "code",
   "execution_count": 16,
   "metadata": {},
   "outputs": [],
   "source": [
    "motcle = 'Raoult'"
   ]
  },
  {
   "cell_type": "code",
   "execution_count": 17,
   "metadata": {},
   "outputs": [
    {
     "ename": "TypeError",
     "evalue": "can only concatenate str (not \"int\") to str",
     "output_type": "error",
     "traceback": [
      "\u001b[0;31m---------------------------------------------------------------------------\u001b[0m",
      "\u001b[0;31mTypeError\u001b[0m                                 Traceback (most recent call last)",
      "\u001b[0;32m<ipython-input-17-8d999d28bb2a>\u001b[0m in \u001b[0;36m<module>\u001b[0;34m\u001b[0m\n\u001b[0;32m----> 1\u001b[0;31m \u001b[0mmotcle\u001b[0m \u001b[0;34m+\u001b[0m \u001b[0;36m101\u001b[0m\u001b[0;34m\u001b[0m\u001b[0;34m\u001b[0m\u001b[0m\n\u001b[0m",
      "\u001b[0;31mTypeError\u001b[0m: can only concatenate str (not \"int\") to str"
     ]
    }
   ],
   "source": [
    "motcle + 101"
   ]
  },
  {
   "cell_type": "markdown",
   "metadata": {},
   "source": [
    "Léo est perfide"
   ]
  },
  {
   "cell_type": "code",
   "execution_count": 18,
   "metadata": {},
   "outputs": [
    {
     "data": {
      "text/plain": [
       "'RaoultRaoult'"
      ]
     },
     "execution_count": 18,
     "metadata": {},
     "output_type": "execute_result"
    }
   ],
   "source": [
    "motcle*2"
   ]
  },
  {
   "cell_type": "code",
   "execution_count": 19,
   "metadata": {},
   "outputs": [
    {
     "data": {
      "text/plain": [
       "'ProfesseurRaoult'"
      ]
     },
     "execution_count": 19,
     "metadata": {},
     "output_type": "execute_result"
    }
   ],
   "source": [
    "\"Professeur\" + \"Raoult\""
   ]
  },
  {
   "cell_type": "markdown",
   "metadata": {},
   "source": [
    "Les objets en python (comme les variables) contiennent des méthodes et des attributs"
   ]
  },
  {
   "cell_type": "code",
   "execution_count": 20,
   "metadata": {},
   "outputs": [
    {
     "data": {
      "text/plain": [
       "'RAOULT'"
      ]
     },
     "execution_count": 20,
     "metadata": {},
     "output_type": "execute_result"
    }
   ],
   "source": [
    "motcle.upper()"
   ]
  },
  {
   "cell_type": "code",
   "execution_count": 21,
   "metadata": {},
   "outputs": [],
   "source": [
    "une_phrase = \"Ceci est une phrase\""
   ]
  },
  {
   "cell_type": "code",
   "execution_count": 22,
   "metadata": {},
   "outputs": [
    {
     "data": {
      "text/plain": [
       "13"
      ]
     },
     "execution_count": 22,
     "metadata": {},
     "output_type": "execute_result"
    }
   ],
   "source": [
    "une_phrase.find(\"phrase\")"
   ]
  },
  {
   "cell_type": "markdown",
   "metadata": {},
   "source": [
    "## Troisième ligne"
   ]
  },
  {
   "cell_type": "code",
   "execution_count": 26,
   "metadata": {},
   "outputs": [],
   "source": [
    "titres = [' Bolsonaro sur le banc des accusés après les ravages du Covid à Manaus ',\n",
    " \" Gilbert Deray Bilan d'étape du virus, un an après La découverte de vaccins en un temps record est un incontestable succès médico-scientifique, mais nos échecs économiques et sociétaux dans la lutte contre le Covid-19 sont évidents, souligne le médecin \",\n",
    " ' Information et pandémie Les médias traitent-ils bien les sciences ? ',\n",
    " ' Par Nicolas Berrod, Ludwig Gallet et Paméla ',\n",
    " ' Covid-19 : le docu «Hold-up» bat des records de défiance ',\n",
    " \" A Marseille, la facture n'est pas passée \",\n",
    " ' Pass sanitaire|« On y mettra fin à la minute où nous le pourrons » ',\n",
    " ' Les covidosceptiques veulent faire avaler leurs pilules ',\n",
    " ' Didier Raoult, le postmodernisme en étendard ',\n",
    " \" Crise sanitaire Le professeur Raoult persiste dans ses certitudes Visé par une plainte, le directeur de l'institut Méditerranée Infection prescrit toujours l'hydroxychloroquine \"]"
   ]
  },
  {
   "cell_type": "code",
   "execution_count": 27,
   "metadata": {},
   "outputs": [
    {
     "data": {
      "text/plain": [
       "list"
      ]
     },
     "execution_count": 27,
     "metadata": {},
     "output_type": "execute_result"
    }
   ],
   "source": [
    "type(titres)"
   ]
  },
  {
   "cell_type": "markdown",
   "metadata": {},
   "source": [
    "Une liste est un ensemble d'éléments indexé par les entiers\n",
    "\n",
    "0 -> élément 1\n",
    "\n",
    "1 -> élément 2\n",
    "\n",
    "2 -> élément 3\n",
    "\n",
    "...."
   ]
  },
  {
   "cell_type": "code",
   "execution_count": 28,
   "metadata": {},
   "outputs": [
    {
     "data": {
      "text/plain": [
       "\" Gilbert Deray Bilan d'étape du virus, un an après La découverte de vaccins en un temps record est un incontestable succès médico-scientifique, mais nos échecs économiques et sociétaux dans la lutte contre le Covid-19 sont évidents, souligne le médecin \""
      ]
     },
     "execution_count": 28,
     "metadata": {},
     "output_type": "execute_result"
    }
   ],
   "source": [
    "titres[1]"
   ]
  },
  {
   "cell_type": "markdown",
   "metadata": {},
   "source": [
    "Définir une liste d'éléments divers"
   ]
  },
  {
   "cell_type": "code",
   "execution_count": 29,
   "metadata": {},
   "outputs": [],
   "source": [
    "ma_liste = [1,\"chien\",\"jeu\",34,75.23]"
   ]
  },
  {
   "cell_type": "code",
   "execution_count": 33,
   "metadata": {},
   "outputs": [
    {
     "data": {
      "text/plain": [
       "['chien', 'jeu']"
      ]
     },
     "execution_count": 33,
     "metadata": {},
     "output_type": "execute_result"
    }
   ],
   "source": [
    "ma_liste[1:3]"
   ]
  },
  {
   "cell_type": "markdown",
   "metadata": {},
   "source": [
    "Ajouter un élément"
   ]
  },
  {
   "cell_type": "code",
   "execution_count": 34,
   "metadata": {},
   "outputs": [],
   "source": [
    "ma_liste.append(\"Nouvel élément\")"
   ]
  },
  {
   "cell_type": "code",
   "execution_count": 35,
   "metadata": {},
   "outputs": [
    {
     "data": {
      "text/plain": [
       "[1, 'chien', 'jeu', 34, 75.23, 'Nouvel élément']"
      ]
     },
     "execution_count": 35,
     "metadata": {},
     "output_type": "execute_result"
    }
   ],
   "source": [
    "ma_liste"
   ]
  },
  {
   "cell_type": "markdown",
   "metadata": {},
   "source": [
    "## Quatrième ligne"
   ]
  },
  {
   "cell_type": "code",
   "execution_count": 36,
   "metadata": {},
   "outputs": [],
   "source": [
    "nombre_total_articles = len(titres)"
   ]
  },
  {
   "cell_type": "code",
   "execution_count": 37,
   "metadata": {},
   "outputs": [
    {
     "data": {
      "text/plain": [
       "10"
      ]
     },
     "execution_count": 37,
     "metadata": {},
     "output_type": "execute_result"
    }
   ],
   "source": [
    "len(titres)"
   ]
  },
  {
   "cell_type": "code",
   "execution_count": 38,
   "metadata": {},
   "outputs": [
    {
     "data": {
      "text/plain": [
       "20"
      ]
     },
     "execution_count": 38,
     "metadata": {},
     "output_type": "execute_result"
    }
   ],
   "source": [
    "len(\"Chaine de caractères\")"
   ]
  },
  {
   "cell_type": "markdown",
   "metadata": {},
   "source": [
    "`len` est une fonction qui prend un argument"
   ]
  },
  {
   "cell_type": "code",
   "execution_count": 40,
   "metadata": {},
   "outputs": [
    {
     "data": {
      "text/plain": [
       "<function len(obj, /)>"
      ]
     },
     "execution_count": 40,
     "metadata": {},
     "output_type": "execute_result"
    }
   ],
   "source": [
    "len"
   ]
  },
  {
   "cell_type": "markdown",
   "metadata": {},
   "source": [
    "## Les autres types de base"
   ]
  },
  {
   "cell_type": "markdown",
   "metadata": {},
   "source": [
    "L'élément nul"
   ]
  },
  {
   "cell_type": "code",
   "execution_count": 41,
   "metadata": {},
   "outputs": [],
   "source": [
    "le_vide = None"
   ]
  },
  {
   "cell_type": "markdown",
   "metadata": {},
   "source": [
    "Les nombres décimaux"
   ]
  },
  {
   "cell_type": "code",
   "execution_count": 42,
   "metadata": {},
   "outputs": [],
   "source": [
    "unNombre = 10.34"
   ]
  },
  {
   "cell_type": "code",
   "execution_count": 43,
   "metadata": {},
   "outputs": [
    {
     "data": {
      "text/plain": [
       "float"
      ]
     },
     "execution_count": 43,
     "metadata": {},
     "output_type": "execute_result"
    }
   ],
   "source": [
    "type(unNombre)"
   ]
  },
  {
   "cell_type": "markdown",
   "metadata": {},
   "source": [
    "Le type booléen"
   ]
  },
  {
   "cell_type": "code",
   "execution_count": 44,
   "metadata": {},
   "outputs": [],
   "source": [
    "verite = True"
   ]
  },
  {
   "cell_type": "code",
   "execution_count": 45,
   "metadata": {},
   "outputs": [
    {
     "data": {
      "text/plain": [
       "bool"
      ]
     },
     "execution_count": 45,
     "metadata": {},
     "output_type": "execute_result"
    }
   ],
   "source": [
    "type(verite)"
   ]
  },
  {
   "cell_type": "code",
   "execution_count": 46,
   "metadata": {},
   "outputs": [],
   "source": [
    "verite = False"
   ]
  },
  {
   "cell_type": "markdown",
   "metadata": {},
   "source": [
    "Un autre ensemble : le dictionnaire"
   ]
  },
  {
   "cell_type": "code",
   "execution_count": 47,
   "metadata": {},
   "outputs": [],
   "source": [
    "langagesProgrammation = {\"Python\":10,\"R\":9,\"C\":7}"
   ]
  },
  {
   "cell_type": "markdown",
   "metadata": {},
   "source": [
    "Ensemble de clé:valeur"
   ]
  },
  {
   "cell_type": "code",
   "execution_count": 48,
   "metadata": {},
   "outputs": [
    {
     "data": {
      "text/plain": [
       "dict"
      ]
     },
     "execution_count": 48,
     "metadata": {},
     "output_type": "execute_result"
    }
   ],
   "source": [
    "type(langagesProgrammation)"
   ]
  },
  {
   "cell_type": "code",
   "execution_count": 49,
   "metadata": {},
   "outputs": [
    {
     "data": {
      "text/plain": [
       "10"
      ]
     },
     "execution_count": 49,
     "metadata": {},
     "output_type": "execute_result"
    }
   ],
   "source": [
    "langagesProgrammation[\"Python\"]"
   ]
  },
  {
   "cell_type": "code",
   "execution_count": 54,
   "metadata": {},
   "outputs": [
    {
     "ename": "SyntaxError",
     "evalue": "invalid syntax (<ipython-input-54-58e0cc6f5d56>, line 1)",
     "output_type": "error",
     "traceback": [
      "\u001b[0;36m  File \u001b[0;32m\"<ipython-input-54-58e0cc6f5d56>\"\u001b[0;36m, line \u001b[0;32m1\u001b[0m\n\u001b[0;31m    langagesProgrammation =\u001b[0m\n\u001b[0m                            ^\u001b[0m\n\u001b[0;31mSyntaxError\u001b[0m\u001b[0;31m:\u001b[0m invalid syntax\n"
     ]
    }
   ],
   "source": [
    "langagesProgrammation = {\"Python\"  :  10   ,\n",
    "                         \"R\"  :  9  ,\n",
    "                         \"C\"  :   7   \n",
    "                        }"
   ]
  },
  {
   "cell_type": "markdown",
   "metadata": {},
   "source": [
    "Il existe d'autres types de variables :\n",
    "\n",
    "- les tuples ()\n",
    "- les sets "
   ]
  },
  {
   "cell_type": "markdown",
   "metadata": {},
   "source": [
    "JSON {\"clé\":[{..., valeurs]"
   ]
  },
  {
   "cell_type": "markdown",
   "metadata": {},
   "source": [
    "Un exemple d'application"
   ]
  },
  {
   "cell_type": "code",
   "execution_count": 58,
   "metadata": {},
   "outputs": [
    {
     "data": {
      "text/plain": [
       "4"
      ]
     },
     "execution_count": 58,
     "metadata": {},
     "output_type": "execute_result"
    }
   ],
   "source": [
    "mots = \"Ceci est une phrase\".lower().split(\" \")\n",
    "len(mots)"
   ]
  },
  {
   "cell_type": "markdown",
   "metadata": {},
   "source": [
    "### La cinquième ligne ... et les suivantes"
   ]
  },
  {
   "cell_type": "code",
   "execution_count": null,
   "metadata": {},
   "outputs": [],
   "source": [
    "if nombre_total_articles > 0:\n",
    "    for i in titres:\n",
    "        if motcle in i:\n",
    "            print(i)\n",
    "            nombre_articles+=1\n",
    "else:\n",
    "    print(\"La liste est vide\")"
   ]
  },
  {
   "cell_type": "markdown",
   "metadata": {},
   "source": [
    "La notion de condition"
   ]
  },
  {
   "cell_type": "code",
   "execution_count": 59,
   "metadata": {},
   "outputs": [
    {
     "data": {
      "text/plain": [
       "True"
      ]
     },
     "execution_count": 59,
     "metadata": {},
     "output_type": "execute_result"
    }
   ],
   "source": [
    "nombre_total_articles > 0"
   ]
  },
  {
   "cell_type": "code",
   "execution_count": 60,
   "metadata": {},
   "outputs": [
    {
     "data": {
      "text/plain": [
       "True"
      ]
     },
     "execution_count": 60,
     "metadata": {},
     "output_type": "execute_result"
    }
   ],
   "source": [
    "10 < 100"
   ]
  },
  {
   "cell_type": "code",
   "execution_count": 61,
   "metadata": {},
   "outputs": [
    {
     "data": {
      "text/plain": [
       "False"
      ]
     },
     "execution_count": 61,
     "metadata": {},
     "output_type": "execute_result"
    }
   ],
   "source": [
    "nombre_total_articles > 100"
   ]
  },
  {
   "cell_type": "code",
   "execution_count": 62,
   "metadata": {},
   "outputs": [
    {
     "data": {
      "text/plain": [
       "True"
      ]
     },
     "execution_count": 62,
     "metadata": {},
     "output_type": "execute_result"
    }
   ],
   "source": [
    "type(nombre_total_articles) == int"
   ]
  },
  {
   "cell_type": "markdown",
   "metadata": {},
   "source": [
    "Lien condition / embranchement"
   ]
  },
  {
   "cell_type": "markdown",
   "metadata": {},
   "source": [
    "``` python\n",
    "if nombre_total_articles > 0:\n",
    "    Actions 1\n",
    "else:\n",
    "    Actions 2\n",
    "```"
   ]
  },
  {
   "cell_type": "markdown",
   "metadata": {},
   "source": [
    "Les boucles"
   ]
  },
  {
   "cell_type": "markdown",
   "metadata": {},
   "source": [
    "POUR `chaque élément` de l'ensemble `titres`:\n",
    "\n",
    "    FAIRE"
   ]
  },
  {
   "cell_type": "code",
   "execution_count": 63,
   "metadata": {},
   "outputs": [
    {
     "name": "stdout",
     "output_type": "stream",
     "text": [
      " Bolsonaro sur le banc des accusés après les ravages du Covid à Manaus \n",
      " Gilbert Deray Bilan d'étape du virus, un an après La découverte de vaccins en un temps record est un incontestable succès médico-scientifique, mais nos échecs économiques et sociétaux dans la lutte contre le Covid-19 sont évidents, souligne le médecin \n",
      " Information et pandémie Les médias traitent-ils bien les sciences ? \n",
      " Par Nicolas Berrod, Ludwig Gallet et Paméla \n",
      " Covid-19 : le docu «Hold-up» bat des records de défiance \n",
      " A Marseille, la facture n'est pas passée \n",
      " Pass sanitaire|« On y mettra fin à la minute où nous le pourrons » \n",
      " Les covidosceptiques veulent faire avaler leurs pilules \n",
      " Didier Raoult, le postmodernisme en étendard \n",
      " Crise sanitaire Le professeur Raoult persiste dans ses certitudes Visé par une plainte, le directeur de l'institut Méditerranée Infection prescrit toujours l'hydroxychloroquine \n"
     ]
    }
   ],
   "source": [
    "for blablabla in titres:\n",
    "    print(blablabla)"
   ]
  },
  {
   "cell_type": "code",
   "execution_count": null,
   "metadata": {},
   "outputs": [],
   "source": [
    "    for el in titres:\n",
    "        if motcle in el:\n",
    "            print(el)\n",
    "            nombre_articles = nombre_articles + 1 #+= incrémenter"
   ]
  },
  {
   "cell_type": "markdown",
   "metadata": {},
   "source": [
    "### Dernière ligne : formatage de sortie"
   ]
  },
  {
   "cell_type": "code",
   "execution_count": 66,
   "metadata": {
    "scrolled": true
   },
   "outputs": [
    {
     "name": "stdout",
     "output_type": "stream",
     "text": [
      "Proportion d'articles contenant le terme dans le titre : 20.0 %\n"
     ]
    }
   ],
   "source": [
    "print(\"Proportion d'articles contenant le terme dans le titre : {} %\"\\\n",
    "      .format(round(proportion,1)))"
   ]
  },
  {
   "cell_type": "markdown",
   "metadata": {},
   "source": [
    "On fait du formatage de chaine de caractères"
   ]
  },
  {
   "cell_type": "code",
   "execution_count": 67,
   "metadata": {},
   "outputs": [
    {
     "data": {
      "text/plain": [
       "\"Proportion d'articles contenant le terme dans le titre : 20.0 %\""
      ]
     },
     "execution_count": 67,
     "metadata": {},
     "output_type": "execute_result"
    }
   ],
   "source": [
    "\"Proportion d'articles contenant le terme dans le titre : {} %\"\\\n",
    "      .format(round(proportion,1))"
   ]
  },
  {
   "cell_type": "markdown",
   "metadata": {},
   "source": [
    "Une fonction de base (en verte) qui est round() -> arrondir"
   ]
  },
  {
   "cell_type": "code",
   "execution_count": 72,
   "metadata": {},
   "outputs": [
    {
     "data": {
      "text/plain": [
       "10.233"
      ]
     },
     "execution_count": 72,
     "metadata": {},
     "output_type": "execute_result"
    }
   ],
   "source": [
    "round(10.233232,3)"
   ]
  },
  {
   "cell_type": "markdown",
   "metadata": {},
   "source": [
    "Il y a toujours plusieurs façons de faire les choses"
   ]
  },
  {
   "cell_type": "code",
   "execution_count": 74,
   "metadata": {},
   "outputs": [
    {
     "data": {
      "text/plain": [
       "\"Proportion d'articles contenant le terme dans le titre : 20.0 %\""
      ]
     },
     "execution_count": 74,
     "metadata": {},
     "output_type": "execute_result"
    }
   ],
   "source": [
    "\"Proportion d'articles contenant le terme dans le titre : \"+ str(proportion) +\" %\""
   ]
  },
  {
   "cell_type": "markdown",
   "metadata": {},
   "source": [
    "- str()\n",
    "- float()\n",
    "- list()\n",
    "- dict()"
   ]
  },
  {
   "cell_type": "code",
   "execution_count": 75,
   "metadata": {},
   "outputs": [
    {
     "data": {
      "text/plain": [
       "'10'"
      ]
     },
     "execution_count": 75,
     "metadata": {},
     "output_type": "execute_result"
    }
   ],
   "source": [
    "str(10)"
   ]
  },
  {
   "cell_type": "code",
   "execution_count": 76,
   "metadata": {},
   "outputs": [
    {
     "data": {
      "text/plain": [
       "103"
      ]
     },
     "execution_count": 76,
     "metadata": {},
     "output_type": "execute_result"
    }
   ],
   "source": [
    "int(\"103\")"
   ]
  },
  {
   "cell_type": "markdown",
   "metadata": {},
   "source": [
    "## Les entrées/sorties"
   ]
  },
  {
   "cell_type": "markdown",
   "metadata": {},
   "source": [
    "- ouverture d'un fichier\n",
    "- opération d'écriture/lecture"
   ]
  },
  {
   "cell_type": "code",
   "execution_count": 79,
   "metadata": {},
   "outputs": [],
   "source": [
    "ligne = \"Proportion d'articles contenant le terme dans le titre : \"+ str(proportion) +\" %\""
   ]
  },
  {
   "cell_type": "markdown",
   "metadata": {},
   "source": [
    "Ecrire dans un fichier"
   ]
  },
  {
   "cell_type": "code",
   "execution_count": 81,
   "metadata": {},
   "outputs": [],
   "source": [
    "with open(\"sortie.txt\",\"w\") as file:\n",
    "    file.write(ligne)"
   ]
  },
  {
   "cell_type": "markdown",
   "metadata": {},
   "source": [
    "Pour lire dans un fichier : on ouvre en lecture \"r\", et on utilise read() ou readlines()"
   ]
  },
  {
   "cell_type": "code",
   "execution_count": 84,
   "metadata": {},
   "outputs": [],
   "source": [
    "with open(\"sortie.txt\",\"r\") as f:\n",
    "    lecture = f.read()"
   ]
  },
  {
   "cell_type": "code",
   "execution_count": 83,
   "metadata": {},
   "outputs": [
    {
     "data": {
      "text/plain": [
       "\"Proportion d'articles contenant le terme dans le titre : 20.0 %\""
      ]
     },
     "execution_count": 83,
     "metadata": {},
     "output_type": "execute_result"
    }
   ],
   "source": [
    "lecture"
   ]
  },
  {
   "cell_type": "markdown",
   "metadata": {},
   "source": [
    "## Construire ses propres fonctions"
   ]
  },
  {
   "cell_type": "markdown",
   "metadata": {},
   "source": [
    "On veut faire le même script qu'au début mais sur une liste de titres quelconque\n",
    "\n",
    "\n",
    "Liste -> Fonction -> Renvoie la proportion de titre avec le mot clé Raoult"
   ]
  },
  {
   "cell_type": "code",
   "execution_count": 91,
   "metadata": {},
   "outputs": [],
   "source": [
    "def compter_articles_raoult(liste_titres): # Définition d'une fonction avec un argument\n",
    "    \"\"\"\n",
    "    Compter les articles avec un mot clé dedans\n",
    "    \"\"\"\n",
    "    nombre_articles = 0\n",
    "    motcle = \"Raoult\"\n",
    "    nombre_total_articles = len(liste_titres)\n",
    "    if nombre_total_articles > 0:\n",
    "        for element in liste_titres:\n",
    "            if motcle in element:\n",
    "                print(element)\n",
    "                nombre_articles+=1\n",
    "    else:\n",
    "        print(\"La liste est vide\")\n",
    "    proportion = 100*nombre_articles/nombre_total_articles\n",
    "    ligne = \"Proportion d'articles contenant le terme dans le titre : {} %\".format(round(proportion,1))\n",
    "    \n",
    "    # Renvoyer la ligne à la fin de la fonction\n",
    "    return ligne "
   ]
  },
  {
   "cell_type": "markdown",
   "metadata": {},
   "source": [
    "Utiliser la fonction"
   ]
  },
  {
   "cell_type": "code",
   "execution_count": 90,
   "metadata": {},
   "outputs": [
    {
     "data": {
      "text/plain": [
       "\"Proportion d'articles contenant le terme dans le titre : 0.0 %\""
      ]
     },
     "execution_count": 90,
     "metadata": {},
     "output_type": "execute_result"
    }
   ],
   "source": [
    "titres = [' Bolsonaro sur le banc des accusés après les ravages du Covid à Manaus ',\n",
    " \" Gilbert Deray Bilan d'étape du virus, un an après La découverte de vaccins en un temps record est un incontestable succès médico-scientifique, mais nos échecs économiques et sociétaux dans la lutte contre le Covid-19 sont évidents, souligne le médecin \",\n",
    " ' Information et pandémie Les médias traitent-ils bien les sciences ? ',\n",
    " ' Par Nicolas Berrod, Ludwig Gallet et Paméla ',\n",
    " ' Covid-19 : le docu «Hold-up» bat des records de défiance ',\n",
    " \" A Marseille, la facture n'est pas passée \"]\n",
    "\n",
    "compter_articles_raoult(titres)"
   ]
  }
 ],
 "metadata": {
  "kernelspec": {
   "display_name": "Python 3",
   "language": "python",
   "name": "python3"
  },
  "language_info": {
   "codemirror_mode": {
    "name": "ipython",
    "version": 3
   },
   "file_extension": ".py",
   "mimetype": "text/x-python",
   "name": "python",
   "nbconvert_exporter": "python",
   "pygments_lexer": "ipython3",
   "version": "3.7.7"
  }
 },
 "nbformat": 4,
 "nbformat_minor": 4
}
