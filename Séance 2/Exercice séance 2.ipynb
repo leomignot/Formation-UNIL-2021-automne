{
 "cells": [
  {
   "cell_type": "markdown",
   "metadata": {},
   "source": [
    "## Exercice 1"
   ]
  },
  {
   "cell_type": "markdown",
   "metadata": {},
   "source": [
    "Modifier le code du script de la séance 2 pour rechercher un autre mot-clé (covid par exemple) indépendamment des majuscules et des minuscules"
   ]
  },
  {
   "cell_type": "markdown",
   "metadata": {},
   "source": [
    "## Exercice 2\n",
    "\n",
    "Modifier la fonction pour qu'elle ait deux arguments en entrée, la liste et le mot clé (afin de la rendre plus générique)"
   ]
  },
  {
   "cell_type": "markdown",
   "metadata": {},
   "source": [
    "## Exercice 3\n",
    "\n",
    "Ouvrir le fichier \"corpus.csv\" (utiliser la méthode .readlines()) et appliquer la fonction pour identifier les articles qui mentionnent Raoult"
   ]
  }
 ],
 "metadata": {
  "kernelspec": {
   "display_name": "Python 3",
   "language": "python",
   "name": "python3"
  },
  "language_info": {
   "codemirror_mode": {
    "name": "ipython",
    "version": 3
   },
   "file_extension": ".py",
   "mimetype": "text/x-python",
   "name": "python",
   "nbconvert_exporter": "python",
   "pygments_lexer": "ipython3",
   "version": "3.7.7"
  }
 },
 "nbformat": 4,
 "nbformat_minor": 4
}
